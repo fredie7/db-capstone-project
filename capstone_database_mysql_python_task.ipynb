{
 "cells": [
  {
   "cell_type": "markdown",
   "id": "dc6c041f",
   "metadata": {},
   "source": [
    "Little Lemon need you to return specific details from the database. They require the full name and contact details for every customer that has placed an order greater than $60 for a promotional campaign. "
   ]
  },
  {
   "cell_type": "code",
   "execution_count": 174,
   "id": "54d50bb2",
   "metadata": {},
   "outputs": [],
   "source": [
    "# Import dependency\n",
    "import mysql.connector as connector"
   ]
  },
  {
   "cell_type": "code",
   "execution_count": 175,
   "id": "17cfbce2",
   "metadata": {},
   "outputs": [],
   "source": [
    "# Establish connection\n",
    "connection = connector.connect(user=\"root\",password=\"Livroadmission1\")"
   ]
  },
  {
   "cell_type": "code",
   "execution_count": 176,
   "id": "3471284d",
   "metadata": {},
   "outputs": [],
   "source": [
    "cursor = connection.cursor()"
   ]
  },
  {
   "cell_type": "code",
   "execution_count": 177,
   "id": "f8effa57",
   "metadata": {},
   "outputs": [],
   "source": [
    "# Choose desired database\n",
    "cursor.execute(\"USE littlelemondb\")"
   ]
  },
  {
   "cell_type": "code",
   "execution_count": 178,
   "id": "9369b994",
   "metadata": {},
   "outputs": [],
   "source": [
    "# Show tables\n",
    "show_tables_query = \"\"\"SHOW TABLES\"\"\""
   ]
  },
  {
   "cell_type": "code",
   "execution_count": 179,
   "id": "0b1ddb7e",
   "metadata": {},
   "outputs": [],
   "source": [
    "cursor.execute(show_tables_query)"
   ]
  },
  {
   "cell_type": "code",
   "execution_count": 180,
   "id": "dacc314f",
   "metadata": {},
   "outputs": [
    {
     "name": "stdout",
     "output_type": "stream",
     "text": [
      "('bookings',)\n",
      "('combinedview',)\n",
      "('customers',)\n",
      "('menuitems',)\n",
      "('menus',)\n",
      "('ordercancellations',)\n",
      "('orders',)\n",
      "('ordersview',)\n",
      "('sales',)\n"
     ]
    }
   ],
   "source": [
    "tables = cursor.fetchall()\n",
    "for table in tables:\n",
    "    print(table)"
   ]
  },
  {
   "cell_type": "code",
   "execution_count": 181,
   "id": "dd200874",
   "metadata": {},
   "outputs": [],
   "source": [
    "# Define the query every customer that has placed an order greater than $60\n",
    "filter_query = \"\"\"\n",
    "SELECT \n",
    "    Customers.fullName,\n",
    "    Customers.contactNumber,\n",
    "    Customers.email,\n",
    "    Orders.totalCost\n",
    "FROM \n",
    "    Orders\n",
    "JOIN \n",
    "    Customers ON Orders.customerID = Customers.customerID\n",
    "WHERE \n",
    "    Orders.totalCost > 60;\n",
    "\"\"\""
   ]
  },
  {
   "cell_type": "code",
   "execution_count": 182,
   "id": "9b1728d4",
   "metadata": {},
   "outputs": [],
   "source": [
    "# Execute the query above\n",
    "cursor.execute(filter_query)"
   ]
  },
  {
   "cell_type": "code",
   "execution_count": 183,
   "id": "e5b88de5",
   "metadata": {},
   "outputs": [
    {
     "name": "stdout",
     "output_type": "stream",
     "text": [
      "IDENTIFIED CUSTOMERS AHEAD OF PROMOTIONAL CAMPAIGN:\n",
      "\n",
      "\n",
      "Full Name: mikel jane, Contact Number: 738-928-9474, Email: mikel.jane@email.com, Total Cost: 250.00\n",
      "Full Name: andrey casy, Contact Number: 846-298-5877, Email: andrey.casy@email.com, Total Cost: 61.32\n",
      "Full Name: james carter, Contact Number: 263-957-1871, Email: james.carter@email.com, Total Cost: 320.00\n",
      "Full Name: Customer 6, Contact Number: 814-977-6356, Email: customer6@email.com, Total Cost: 122.65\n",
      "Full Name: Customer 7, Contact Number: 814-977-6357, Email: customer7@email.com, Total Cost: 99.87\n",
      "Full Name: Customer 8, Contact Number: 814-977-6358, Email: customer8@email.com, Total Cost: 81.41\n",
      "Full Name: Customer 10, Contact Number: 814-977-6350, Email: customer10@email.com, Total Cost: 92.96\n",
      "Full Name: Customer 11, Contact Number: 814-977-6351, Email: customer11@email.com, Total Cost: 142.49\n",
      "Full Name: Customer 12, Contact Number: 814-977-6352, Email: customer12@email.com, Total Cost: 83.55\n",
      "Full Name: Customer 13, Contact Number: 814-977-6353, Email: customer13@email.com, Total Cost: 140.29\n",
      "Full Name: Customer 14, Contact Number: 814-977-6354, Email: customer14@email.com, Total Cost: 100.82\n",
      "Full Name: Customer 15, Contact Number: 814-977-6355, Email: customer15@email.com, Total Cost: 133.22\n",
      "Full Name: Customer 16, Contact Number: 814-977-6356, Email: customer16@email.com, Total Cost: 113.63\n",
      "Full Name: Customer 17, Contact Number: 814-977-6357, Email: customer17@email.com, Total Cost: 118.47\n",
      "Full Name: Customer 18, Contact Number: 814-977-6358, Email: customer18@email.com, Total Cost: 101.50\n",
      "Full Name: Customer 19, Contact Number: 814-977-6359, Email: customer19@email.com, Total Cost: 102.06\n",
      "Full Name: Customer 21, Contact Number: 814-977-6351, Email: customer21@email.com, Total Cost: 122.87\n",
      "Full Name: Customer 22, Contact Number: 814-977-6352, Email: customer22@email.com, Total Cost: 96.93\n",
      "Full Name: Customer 23, Contact Number: 814-977-6353, Email: customer23@email.com, Total Cost: 66.02\n",
      "Full Name: Customer 24, Contact Number: 814-977-6354, Email: customer24@email.com, Total Cost: 89.32\n",
      "Full Name: Customer 25, Contact Number: 814-977-6355, Email: customer25@email.com, Total Cost: 98.55\n",
      "Full Name: Customer 26, Contact Number: 814-977-6356, Email: customer26@email.com, Total Cost: 74.78\n",
      "Full Name: Customer 27, Contact Number: 814-977-6357, Email: customer27@email.com, Total Cost: 128.23\n",
      "Full Name: Customer 28, Contact Number: 814-977-6358, Email: customer28@email.com, Total Cost: 66.84\n",
      "Full Name: Customer 29, Contact Number: 814-977-6359, Email: customer29@email.com, Total Cost: 99.49\n",
      "Full Name: Customer 30, Contact Number: 814-977-6350, Email: customer30@email.com, Total Cost: 146.94\n",
      "Full Name: Customer 31, Contact Number: 814-977-6351, Email: customer31@email.com, Total Cost: 86.22\n",
      "Full Name: Customer 32, Contact Number: 814-977-6352, Email: customer32@email.com, Total Cost: 140.27\n",
      "Full Name: Customer 33, Contact Number: 814-977-6353, Email: customer33@email.com, Total Cost: 92.69\n",
      "Full Name: Customer 34, Contact Number: 814-977-6354, Email: customer34@email.com, Total Cost: 92.65\n",
      "Full Name: Customer 35, Contact Number: 814-977-6355, Email: customer35@email.com, Total Cost: 135.19\n",
      "Full Name: Customer 36, Contact Number: 814-977-6356, Email: customer36@email.com, Total Cost: 147.99\n",
      "Full Name: Customer 37, Contact Number: 814-977-6357, Email: customer37@email.com, Total Cost: 84.37\n",
      "Full Name: Customer 38, Contact Number: 814-977-6358, Email: customer38@email.com, Total Cost: 127.89\n",
      "Full Name: Customer 39, Contact Number: 814-977-6359, Email: customer39@email.com, Total Cost: 136.34\n",
      "Full Name: Customer 40, Contact Number: 814-977-6350, Email: customer40@email.com, Total Cost: 148.03\n",
      "Full Name: Customer 41, Contact Number: 814-977-6351, Email: customer41@email.com, Total Cost: 81.15\n",
      "Full Name: Customer 42, Contact Number: 814-977-6352, Email: customer42@email.com, Total Cost: 111.64\n",
      "Full Name: Customer 43, Contact Number: 814-977-6353, Email: customer43@email.com, Total Cost: 64.77\n",
      "Full Name: Customer 44, Contact Number: 814-977-6354, Email: customer44@email.com, Total Cost: 138.91\n",
      "Full Name: Customer 46, Contact Number: 814-977-6356, Email: customer46@email.com, Total Cost: 84.48\n",
      "Full Name: Customer 47, Contact Number: 814-977-6357, Email: customer47@email.com, Total Cost: 121.68\n",
      "Full Name: Customer 48, Contact Number: 814-977-6358, Email: customer48@email.com, Total Cost: 104.96\n",
      "Full Name: Customer 49, Contact Number: 814-977-6359, Email: customer49@email.com, Total Cost: 109.74\n",
      "Full Name: Customer 50, Contact Number: 814-977-6350, Email: customer50@email.com, Total Cost: 83.83\n",
      "Full Name: Customer 51, Contact Number: 814-977-6351, Email: customer51@email.com, Total Cost: 139.92\n",
      "Full Name: Customer 52, Contact Number: 814-977-6352, Email: customer52@email.com, Total Cost: 98.12\n",
      "Full Name: Customer 53, Contact Number: 814-977-6353, Email: customer53@email.com, Total Cost: 120.83\n",
      "Full Name: Customer 55, Contact Number: 814-977-6355, Email: customer55@email.com, Total Cost: 86.49\n",
      "Full Name: Customer 56, Contact Number: 814-977-6356, Email: customer56@email.com, Total Cost: 103.06\n",
      "Full Name: Customer 57, Contact Number: 814-977-6357, Email: customer57@email.com, Total Cost: 105.83\n",
      "Full Name: Customer 58, Contact Number: 814-977-6358, Email: customer58@email.com, Total Cost: 69.96\n",
      "Full Name: Customer 59, Contact Number: 814-977-6359, Email: customer59@email.com, Total Cost: 82.30\n",
      "Full Name: Customer 61, Contact Number: 814-977-6351, Email: customer61@email.com, Total Cost: 61.21\n",
      "Full Name: Customer 62, Contact Number: 814-977-6352, Email: customer62@email.com, Total Cost: 101.19\n",
      "Full Name: Customer 63, Contact Number: 814-977-6353, Email: customer63@email.com, Total Cost: 72.33\n",
      "Full Name: Customer 64, Contact Number: 814-977-6354, Email: customer64@email.com, Total Cost: 108.06\n",
      "Full Name: Customer 65, Contact Number: 814-977-6355, Email: customer65@email.com, Total Cost: 73.33\n",
      "Full Name: Customer 66, Contact Number: 814-977-6356, Email: customer66@email.com, Total Cost: 92.46\n",
      "Full Name: Customer 67, Contact Number: 814-977-6357, Email: customer67@email.com, Total Cost: 92.31\n",
      "Full Name: Customer 68, Contact Number: 814-977-6358, Email: customer68@email.com, Total Cost: 134.18\n",
      "Full Name: Customer 69, Contact Number: 814-977-6359, Email: customer69@email.com, Total Cost: 143.98\n",
      "Full Name: Customer 70, Contact Number: 814-977-6350, Email: customer70@email.com, Total Cost: 67.33\n",
      "Full Name: Customer 72, Contact Number: 814-977-6352, Email: customer72@email.com, Total Cost: 121.65\n",
      "Full Name: Customer 73, Contact Number: 814-977-6353, Email: customer73@email.com, Total Cost: 94.06\n",
      "Full Name: Customer 75, Contact Number: 814-977-6355, Email: customer75@email.com, Total Cost: 144.62\n",
      "Full Name: Customer 76, Contact Number: 814-977-6356, Email: customer76@email.com, Total Cost: 107.01\n",
      "Full Name: Customer 78, Contact Number: 814-977-6358, Email: customer78@email.com, Total Cost: 84.94\n",
      "Full Name: Customer 79, Contact Number: 814-977-6359, Email: customer79@email.com, Total Cost: 121.13\n",
      "Full Name: Customer 80, Contact Number: 814-977-6350, Email: customer80@email.com, Total Cost: 100.83\n",
      "Full Name: Customer 81, Contact Number: 814-977-6351, Email: customer81@email.com, Total Cost: 90.75\n",
      "Full Name: Customer 82, Contact Number: 814-977-6352, Email: customer82@email.com, Total Cost: 101.27\n",
      "Full Name: Customer 83, Contact Number: 814-977-6353, Email: customer83@email.com, Total Cost: 84.11\n",
      "Full Name: Customer 84, Contact Number: 814-977-6354, Email: customer84@email.com, Total Cost: 66.75\n",
      "Full Name: Customer 85, Contact Number: 814-977-6355, Email: customer85@email.com, Total Cost: 131.40\n",
      "Full Name: Customer 86, Contact Number: 814-977-6356, Email: customer86@email.com, Total Cost: 106.74\n",
      "Full Name: Customer 87, Contact Number: 814-977-6357, Email: customer87@email.com, Total Cost: 89.53\n",
      "Full Name: Customer 88, Contact Number: 814-977-6358, Email: customer88@email.com, Total Cost: 77.42\n",
      "Full Name: Customer 89, Contact Number: 814-977-6359, Email: customer89@email.com, Total Cost: 68.49\n",
      "Full Name: Customer 90, Contact Number: 814-977-6350, Email: customer90@email.com, Total Cost: 60.22\n",
      "Full Name: Customer 91, Contact Number: 814-977-6351, Email: customer91@email.com, Total Cost: 145.61\n",
      "Full Name: Customer 92, Contact Number: 814-977-6352, Email: customer92@email.com, Total Cost: 97.40\n",
      "Full Name: Customer 93, Contact Number: 814-977-6353, Email: customer93@email.com, Total Cost: 100.15\n",
      "Full Name: Customer 95, Contact Number: 814-977-6355, Email: customer95@email.com, Total Cost: 142.39\n",
      "Full Name: Customer 96, Contact Number: 814-977-6356, Email: customer96@email.com, Total Cost: 86.26\n",
      "Full Name: Customer 98, Contact Number: 814-977-6358, Email: customer98@email.com, Total Cost: 61.79\n",
      "Full Name: Customer 99, Contact Number: 814-977-6359, Email: customer99@email.com, Total Cost: 96.59\n",
      "Full Name: Customer 100, Contact Number: 814-977-6350, Email: customer100@email.com, Total Cost: 147.61\n"
     ]
    }
   ],
   "source": [
    "# Fetch and print the results of the query\n",
    "print(\"IDENTIFIED CUSTOMERS AHEAD OF PROMOTIONAL CAMPAIGN:\\n\\n\")\n",
    "customers = cursor.fetchall()\n",
    "for customer in customers:\n",
    "#     print(customer)\n",
    "    print(f\"Full Name: {customer[0]}, Contact Number: {customer[1]}, Email: {customer[2]}, Total Cost: {customer[3]}\")"
   ]
  },
  {
   "cell_type": "code",
   "execution_count": null,
   "id": "5b7ce2b2",
   "metadata": {},
   "outputs": [],
   "source": []
  }
 ],
 "metadata": {
  "kernelspec": {
   "display_name": "Python 3 (ipykernel)",
   "language": "python",
   "name": "python3"
  },
  "language_info": {
   "codemirror_mode": {
    "name": "ipython",
    "version": 3
   },
   "file_extension": ".py",
   "mimetype": "text/x-python",
   "name": "python",
   "nbconvert_exporter": "python",
   "pygments_lexer": "ipython3",
   "version": "3.11.3"
  }
 },
 "nbformat": 4,
 "nbformat_minor": 5
}
